{
  "nbformat": 4,
  "nbformat_minor": 0,
  "metadata": {
    "colab": {
      "name": "MTG Cards Detection.ipynb",
      "version": "0.3.2",
      "provenance": [],
      "collapsed_sections": [],
      "include_colab_link": true
    },
    "kernelspec": {
      "name": "python3",
      "display_name": "Python 3"
    }
  },
  "cells": [
    {
      "cell_type": "markdown",
      "metadata": {
        "id": "view-in-github",
        "colab_type": "text"
      },
      "source": [
        "<a href=\"https://colab.research.google.com/github/MaximBazarov/experiment_one_shot_object_detector/blob/master/MTG_Cards_Detection.ipynb\" target=\"_parent\"><img src=\"https://colab.research.google.com/assets/colab-badge.svg\" alt=\"Open In Colab\"/></a>"
      ]
    },
    {
      "cell_type": "markdown",
      "metadata": {
        "id": "G_nQbWgRdlEU",
        "colab_type": "text"
      },
      "source": [
        "# Download \"Guilds Of Ravnica\" set cards"
      ]
    },
    {
      "cell_type": "code",
      "metadata": {
        "id": "gV_qqO_xdsmT",
        "colab_type": "code",
        "colab": {
          "base_uri": "https://localhost:8080/",
          "height": 119
        },
        "outputId": "53c55117-89bc-46e6-c6fd-8e681a4a2ab6"
      },
      "source": [
        "!pip install request\n",
        "\n",
        "import requests\n",
        "\n",
        "\n",
        "url = 'https://api.magicthegathering.io/v1/cards'\n",
        "\n",
        "resultsCount = 100\n",
        "page = 1\n",
        "cards = []\n",
        "\n",
        "while resultsCount == 100:\n",
        "  params = dict(\n",
        "    set='GRN',\n",
        "    page=page,\n",
        "    pageSize=100\n",
        "  )\n",
        "  resp = requests.get(url=url, params=params)\n",
        "  data = resp.json()['cards']\n",
        "  cards = cards + list(data)\n",
        "  resultsCount = len(data)\n",
        "  page +=1\n"
      ],
      "execution_count": 8,
      "outputs": [
        {
          "output_type": "stream",
          "text": [
            "Requirement already satisfied: request in /usr/local/lib/python3.6/dist-packages (2019.4.13)\n",
            "Requirement already satisfied: get in /usr/local/lib/python3.6/dist-packages (from request) (2019.4.13)\n",
            "Requirement already satisfied: setuptools in /usr/local/lib/python3.6/dist-packages (from request) (41.0.1)\n",
            "Requirement already satisfied: post in /usr/local/lib/python3.6/dist-packages (from request) (2019.4.13)\n",
            "Requirement already satisfied: query-string in /usr/local/lib/python3.6/dist-packages (from get->request) (2019.4.13)\n",
            "Requirement already satisfied: public in /usr/local/lib/python3.6/dist-packages (from query-string->get->request) (2019.4.13)\n"
          ],
          "name": "stdout"
        }
      ]
    },
    {
      "cell_type": "markdown",
      "metadata": {
        "id": "nq1c46G6iokn",
        "colab_type": "text"
      },
      "source": [
        "# Download Images"
      ]
    },
    {
      "cell_type": "code",
      "metadata": {
        "id": "DwNTEOsKeCGc",
        "colab_type": "code",
        "colab": {}
      },
      "source": [
        "import os\n",
        "os.mkdir('images')\n",
        "for card in cards:\n",
        "    url = card['imageUrl']\n",
        "    r = requests.get(url, allow_redirects=True)\n",
        "    open('images/' + card['name'] + '.png', 'wb').write(r.content)\n"
      ],
      "execution_count": 0,
      "outputs": []
    },
    {
      "cell_type": "markdown",
      "metadata": {
        "id": "U0uILhdhpoP3",
        "colab_type": "text"
      },
      "source": [
        "# Create Model"
      ]
    },
    {
      "cell_type": "code",
      "metadata": {
        "id": "6Q6YYscrpqmw",
        "colab_type": "code",
        "colab": {
          "base_uri": "https://localhost:8080/",
          "height": 1000
        },
        "outputId": "447702e4-6ac5-4480-8b0d-528d4d57088b"
      },
      "source": [
        "!pip install turicreate\n",
        "import turicreate as tc\n",
        "\n",
        "images = tc.load_images('./images/')\n",
        "images['labels'] = images['path'].element_slice(9,-4)\n",
        "\n",
        "model = tc.one_shot_object_detector.create(images, 'labels')\n",
        "\n",
        "model.evaluate(data)\n",
        "\n",
        "# Export to Core ML\n",
        "model.export_coreml('grn.mlmodel')"
      ],
      "execution_count": 0,
      "outputs": [
        {
          "output_type": "stream",
          "text": [
            "Collecting turicreate\n",
            "\u001b[?25l  Downloading https://files.pythonhosted.org/packages/9b/b0/148c2fed2b2a4e151d3726061ec305b028a7ab59bdb1aa93dd950419df6e/turicreate-5.6-cp36-cp36m-manylinux1_x86_64.whl (86.1MB)\n",
            "\u001b[K     |████████████████████████████████| 86.1MB 1.3MB/s \n",
            "\u001b[?25hCollecting coremltools==2.1.0 (from turicreate)\n",
            "\u001b[?25l  Downloading https://files.pythonhosted.org/packages/b9/9d/7ec5a2480c6afce4fcb99de1650b7abfd1457b2ef1de5ce39bf7bee8a8ae/coremltools-2.1.0-cp36-none-manylinux1_x86_64.whl (2.7MB)\n",
            "\u001b[K     |████████████████████████████████| 2.7MB 31.0MB/s \n",
            "\u001b[?25hRequirement already satisfied: six>=1.10.0 in /usr/local/lib/python3.6/dist-packages (from turicreate) (1.12.0)\n",
            "Requirement already satisfied: pillow>=3.3.0 in /usr/local/lib/python3.6/dist-packages (from turicreate) (4.3.0)\n",
            "Requirement already satisfied: decorator>=4.0.9 in /usr/local/lib/python3.6/dist-packages (from turicreate) (4.4.0)\n",
            "Requirement already satisfied: numpy in /usr/local/lib/python3.6/dist-packages (from turicreate) (1.16.4)\n",
            "Requirement already satisfied: resampy==0.2.1 in /usr/local/lib/python3.6/dist-packages (from turicreate) (0.2.1)\n",
            "Requirement already satisfied: pandas>=0.19.0 in /usr/local/lib/python3.6/dist-packages (from turicreate) (0.24.2)\n",
            "Requirement already satisfied: scipy>=0.14.0 in /usr/local/lib/python3.6/dist-packages (from turicreate) (1.3.0)\n",
            "Requirement already satisfied: requests>=2.9.1 in /usr/local/lib/python3.6/dist-packages (from turicreate) (2.21.0)\n",
            "Collecting mxnet<1.2.0,>=1.1.0 (from turicreate)\n",
            "\u001b[?25l  Downloading https://files.pythonhosted.org/packages/96/98/c9877e100c3d1ac92263bfaba7bb8a49294e099046592040a2ff8620ac61/mxnet-1.1.0.post0-py2.py3-none-manylinux1_x86_64.whl (23.8MB)\n",
            "\u001b[K     |████████████████████████████████| 23.8MB 1.5MB/s \n",
            "\u001b[?25hRequirement already satisfied: prettytable==0.7.2 in /usr/local/lib/python3.6/dist-packages (from turicreate) (0.7.2)\n",
            "Requirement already satisfied: protobuf>=3.1.0 in /usr/local/lib/python3.6/dist-packages (from coremltools==2.1.0->turicreate) (3.7.1)\n",
            "Requirement already satisfied: olefile in /usr/local/lib/python3.6/dist-packages (from pillow>=3.3.0->turicreate) (0.46)\n",
            "Requirement already satisfied: numba>=0.32 in /usr/local/lib/python3.6/dist-packages (from resampy==0.2.1->turicreate) (0.40.1)\n",
            "Requirement already satisfied: python-dateutil>=2.5.0 in /usr/local/lib/python3.6/dist-packages (from pandas>=0.19.0->turicreate) (2.5.3)\n",
            "Requirement already satisfied: pytz>=2011k in /usr/local/lib/python3.6/dist-packages (from pandas>=0.19.0->turicreate) (2018.9)\n",
            "Requirement already satisfied: chardet<3.1.0,>=3.0.2 in /usr/local/lib/python3.6/dist-packages (from requests>=2.9.1->turicreate) (3.0.4)\n",
            "Requirement already satisfied: urllib3<1.25,>=1.21.1 in /usr/local/lib/python3.6/dist-packages (from requests>=2.9.1->turicreate) (1.24.3)\n",
            "Requirement already satisfied: certifi>=2017.4.17 in /usr/local/lib/python3.6/dist-packages (from requests>=2.9.1->turicreate) (2019.6.16)\n",
            "Requirement already satisfied: idna<2.9,>=2.5 in /usr/local/lib/python3.6/dist-packages (from requests>=2.9.1->turicreate) (2.8)\n",
            "Collecting graphviz<0.9.0,>=0.8.1 (from mxnet<1.2.0,>=1.1.0->turicreate)\n",
            "  Downloading https://files.pythonhosted.org/packages/53/39/4ab213673844e0c004bed8a0781a0721a3f6bb23eb8854ee75c236428892/graphviz-0.8.4-py2.py3-none-any.whl\n",
            "Requirement already satisfied: setuptools in /usr/local/lib/python3.6/dist-packages (from protobuf>=3.1.0->coremltools==2.1.0->turicreate) (41.0.1)\n",
            "Requirement already satisfied: llvmlite>=0.25.0dev0 in /usr/local/lib/python3.6/dist-packages (from numba>=0.32->resampy==0.2.1->turicreate) (0.29.0)\n",
            "\u001b[31mERROR: mxnet 1.1.0.post0 has requirement numpy<1.15.0,>=1.8.2, but you'll have numpy 1.16.4 which is incompatible.\u001b[0m\n",
            "\u001b[31mERROR: mxnet 1.1.0.post0 has requirement requests<2.19.0,>=2.18.4, but you'll have requests 2.21.0 which is incompatible.\u001b[0m\n",
            "Installing collected packages: coremltools, graphviz, mxnet, turicreate\n",
            "  Found existing installation: graphviz 0.10.1\n",
            "    Uninstalling graphviz-0.10.1:\n",
            "      Successfully uninstalled graphviz-0.10.1\n",
            "Successfully installed coremltools-2.1.0 graphviz-0.8.4 mxnet-1.1.0.post0 turicreate-5.6\n",
            "Downloading https://docs-assets.developer.apple.com/turicreate/data/one_shot_backgrounds.sarray.tar\n",
            "Download completed: /var/tmp/data_cache/one_shot_backgrounds.sarray.tar\n"
          ],
          "name": "stdout"
        },
        {
          "output_type": "display_data",
          "data": {
            "text/html": [
              "<pre>Augmenting input images using 951 background images.</pre>"
            ],
            "text/plain": [
              "Augmenting input images using 951 background images."
            ]
          },
          "metadata": {
            "tags": []
          }
        },
        {
          "output_type": "display_data",
          "data": {
            "text/html": [
              "<pre>+------------------+--------------+------------------+</pre>"
            ],
            "text/plain": [
              "+------------------+--------------+------------------+"
            ]
          },
          "metadata": {
            "tags": []
          }
        },
        {
          "output_type": "display_data",
          "data": {
            "text/html": [
              "<pre>| Images Augmented | Elapsed Time | Percent Complete |</pre>"
            ],
            "text/plain": [
              "| Images Augmented | Elapsed Time | Percent Complete |"
            ]
          },
          "metadata": {
            "tags": []
          }
        },
        {
          "output_type": "display_data",
          "data": {
            "text/html": [
              "<pre>+------------------+--------------+------------------+</pre>"
            ],
            "text/plain": [
              "+------------------+--------------+------------------+"
            ]
          },
          "metadata": {
            "tags": []
          }
        },
        {
          "output_type": "display_data",
          "data": {
            "text/html": [
              "<pre>| 0                | 6.70s        | 0%               |</pre>"
            ],
            "text/plain": [
              "| 0                | 6.70s        | 0%               |"
            ]
          },
          "metadata": {
            "tags": []
          }
        },
        {
          "output_type": "display_data",
          "data": {
            "text/html": [
              "<pre>| 1                | 6.70s        | 0%               |</pre>"
            ],
            "text/plain": [
              "| 1                | 6.70s        | 0%               |"
            ]
          },
          "metadata": {
            "tags": []
          }
        },
        {
          "output_type": "display_data",
          "data": {
            "text/html": [
              "<pre>| 2                | 6.72s        | 0%               |</pre>"
            ],
            "text/plain": [
              "| 2                | 6.72s        | 0%               |"
            ]
          },
          "metadata": {
            "tags": []
          }
        },
        {
          "output_type": "display_data",
          "data": {
            "text/html": [
              "<pre>| 3                | 6.73s        | 0%               |</pre>"
            ],
            "text/plain": [
              "| 3                | 6.73s        | 0%               |"
            ]
          },
          "metadata": {
            "tags": []
          }
        },
        {
          "output_type": "display_data",
          "data": {
            "text/html": [
              "<pre>| 4                | 6.75s        | 0%               |</pre>"
            ],
            "text/plain": [
              "| 4                | 6.75s        | 0%               |"
            ]
          },
          "metadata": {
            "tags": []
          }
        },
        {
          "output_type": "display_data",
          "data": {
            "text/html": [
              "<pre>| 5                | 6.78s        | 0%               |</pre>"
            ],
            "text/plain": [
              "| 5                | 6.78s        | 0%               |"
            ]
          },
          "metadata": {
            "tags": []
          }
        },
        {
          "output_type": "display_data",
          "data": {
            "text/html": [
              "<pre>| 10               | 6.89s        | 0%               |</pre>"
            ],
            "text/plain": [
              "| 10               | 6.89s        | 0%               |"
            ]
          },
          "metadata": {
            "tags": []
          }
        },
        {
          "output_type": "display_data",
          "data": {
            "text/html": [
              "<pre>| 50               | 8.06s        | 0%               |</pre>"
            ],
            "text/plain": [
              "| 50               | 8.06s        | 0%               |"
            ]
          },
          "metadata": {
            "tags": []
          }
        },
        {
          "output_type": "display_data",
          "data": {
            "text/html": [
              "<pre>| 100              | 9.09s        | 0%               |</pre>"
            ],
            "text/plain": [
              "| 100              | 9.09s        | 0%               |"
            ]
          },
          "metadata": {
            "tags": []
          }
        },
        {
          "output_type": "display_data",
          "data": {
            "text/html": [
              "<pre>| 250              | 12.11s       | 0%               |</pre>"
            ],
            "text/plain": [
              "| 250              | 12.11s       | 0%               |"
            ]
          },
          "metadata": {
            "tags": []
          }
        },
        {
          "output_type": "display_data",
          "data": {
            "text/html": [
              "<pre>| 500              | 21.58s       | 0%               |</pre>"
            ],
            "text/plain": [
              "| 500              | 21.58s       | 0%               |"
            ]
          },
          "metadata": {
            "tags": []
          }
        },
        {
          "output_type": "display_data",
          "data": {
            "text/html": [
              "<pre>| 750              | 28.14s       | 0.25%            |</pre>"
            ],
            "text/plain": [
              "| 750              | 28.14s       | 0.25%            |"
            ]
          },
          "metadata": {
            "tags": []
          }
        },
        {
          "output_type": "display_data",
          "data": {
            "text/html": [
              "<pre>| 1000             | 40.81s       | 0.25%            |</pre>"
            ],
            "text/plain": [
              "| 1000             | 40.81s       | 0.25%            |"
            ]
          },
          "metadata": {
            "tags": []
          }
        },
        {
          "output_type": "display_data",
          "data": {
            "text/html": [
              "<pre>| 1250             | 47.01s       | 0.25%            |</pre>"
            ],
            "text/plain": [
              "| 1250             | 47.01s       | 0.25%            |"
            ]
          },
          "metadata": {
            "tags": []
          }
        },
        {
          "output_type": "display_data",
          "data": {
            "text/html": [
              "<pre>| 1500             | 53.58s       | 0.5%             |</pre>"
            ],
            "text/plain": [
              "| 1500             | 53.58s       | 0.5%             |"
            ]
          },
          "metadata": {
            "tags": []
          }
        },
        {
          "output_type": "display_data",
          "data": {
            "text/html": [
              "<pre>| 1750             | 59.18s       | 0.5%             |</pre>"
            ],
            "text/plain": [
              "| 1750             | 59.18s       | 0.5%             |"
            ]
          },
          "metadata": {
            "tags": []
          }
        },
        {
          "output_type": "display_data",
          "data": {
            "text/html": [
              "<pre>| 2000             | 1m 11s       | 0.75%            |</pre>"
            ],
            "text/plain": [
              "| 2000             | 1m 11s       | 0.75%            |"
            ]
          },
          "metadata": {
            "tags": []
          }
        },
        {
          "output_type": "display_data",
          "data": {
            "text/html": [
              "<pre>| 2250             | 1m 17s       | 0.75%            |</pre>"
            ],
            "text/plain": [
              "| 2250             | 1m 17s       | 0.75%            |"
            ]
          },
          "metadata": {
            "tags": []
          }
        },
        {
          "output_type": "display_data",
          "data": {
            "text/html": [
              "<pre>| 2500             | 1m 23s       | 0.75%            |</pre>"
            ],
            "text/plain": [
              "| 2500             | 1m 23s       | 0.75%            |"
            ]
          },
          "metadata": {
            "tags": []
          }
        },
        {
          "output_type": "display_data",
          "data": {
            "text/html": [
              "<pre>| 2750             | 1m 30s       | 1%               |</pre>"
            ],
            "text/plain": [
              "| 2750             | 1m 30s       | 1%               |"
            ]
          },
          "metadata": {
            "tags": []
          }
        },
        {
          "output_type": "display_data",
          "data": {
            "text/html": [
              "<pre>| 3000             | 1m 43s       | 1%               |</pre>"
            ],
            "text/plain": [
              "| 3000             | 1m 43s       | 1%               |"
            ]
          },
          "metadata": {
            "tags": []
          }
        },
        {
          "output_type": "display_data",
          "data": {
            "text/html": [
              "<pre>| 3250             | 1m 50s       | 1%               |</pre>"
            ],
            "text/plain": [
              "| 3250             | 1m 50s       | 1%               |"
            ]
          },
          "metadata": {
            "tags": []
          }
        },
        {
          "output_type": "display_data",
          "data": {
            "text/html": [
              "<pre>| 3500             | 1m 56s       | 1.25%            |</pre>"
            ],
            "text/plain": [
              "| 3500             | 1m 56s       | 1.25%            |"
            ]
          },
          "metadata": {
            "tags": []
          }
        },
        {
          "output_type": "display_data",
          "data": {
            "text/html": [
              "<pre>| 3750             | 2m 2s        | 1.25%            |</pre>"
            ],
            "text/plain": [
              "| 3750             | 2m 2s        | 1.25%            |"
            ]
          },
          "metadata": {
            "tags": []
          }
        }
      ]
    },
    {
      "cell_type": "code",
      "metadata": {
        "id": "-S7sB0jbpwQY",
        "colab_type": "code",
        "colab": {}
      },
      "source": [
        ""
      ],
      "execution_count": 0,
      "outputs": []
    }
  ]
}